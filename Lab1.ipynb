{
  "nbformat": 4,
  "nbformat_minor": 0,
  "metadata": {
    "colab": {
      "name": "Lab1.ipynb",
      "provenance": [],
      "authorship_tag": "ABX9TyP6pjbABEUx6jUbC0PsGw6R",
      "include_colab_link": true
    },
    "kernelspec": {
      "name": "python3",
      "display_name": "Python 3"
    }
  },
  "cells": [
    {
      "cell_type": "markdown",
      "metadata": {
        "id": "view-in-github",
        "colab_type": "text"
      },
      "source": [
        "<a href=\"https://colab.research.google.com/github/JuliannaMurphy/SRA-268-Spring202/blob/master/Lab1.ipynb\" target=\"_parent\"><img src=\"https://colab.research.google.com/assets/colab-badge.svg\" alt=\"Open In Colab\"/></a>"
      ]
    },
    {
      "cell_type": "markdown",
      "metadata": {
        "id": "QB4Ik8dQcPoN",
        "colab_type": "text"
      },
      "source": [
        "#Comparing the frequency of rain and snow from 2017-2019\n"
      ]
    },
    {
      "cell_type": "markdown",
      "metadata": {
        "id": "-OVwtaopcXTR",
        "colab_type": "text"
      },
      "source": [
        "#Outline\n",
        "This lab will be comparing the amount of rain and snow which occured in the year of 2017. We used the highest recorded amount of rain and snow each month as our subset for each year. We drew this out on a line graph (Figure 1)with snowfall being a dashed line and rain as a solid line. \n"
      ]
    },
    {
      "cell_type": "markdown",
      "metadata": {
        "id": "Pi6oQYUYccjo",
        "colab_type": "text"
      },
      "source": [
        "#Figure 1\n",
        "![alt text](https://raw.githubusercontent.com/JuliannaMurphy/SRA-268-Spring202/master/rainVsnow/IMG_0061.jpeg)"
      ]
    },
    {
      "cell_type": "markdown",
      "metadata": {
        "colab_type": "text",
        "id": "5vuZBKYNlfJ7"
      },
      "source": [
        "#Conclusion\n",
        "The graph represents the highest amount of precipitation and snow every month for the year of 2017. Precipitation is represented by a solid line and snow is represented by a dashed line. The graph shows that the higest amount of snow in one year varies much more than highest amounts of precipitation. "
      ]
    }
  ]
}